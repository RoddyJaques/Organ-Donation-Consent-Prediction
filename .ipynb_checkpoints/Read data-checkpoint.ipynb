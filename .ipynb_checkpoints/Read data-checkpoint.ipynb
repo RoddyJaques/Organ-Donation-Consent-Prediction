{
 "cells": [
  {
   "cell_type": "code",
   "execution_count": 2,
   "id": "4a6991bf-6deb-4f95-94e3-47a77a187f98",
   "metadata": {},
   "outputs": [],
   "source": [
    "## Read in data an create DBD and DCD cohorts"
   ]
  },
  {
   "cell_type": "code",
   "execution_count": 3,
   "id": "5fcf0a0d-39c5-4c9c-ad33-86504c5373f1",
   "metadata": {},
   "outputs": [],
   "source": [
    "#import data\n",
    "import pandas as pd\n",
    "\n",
    "#Read in dataset with all rows included\n",
    "df = pd.read_sas(\"/Users/roddy.jacques/Documents/DSA Project/Data/alldata3.sas7bdat\")\n",
    "\n",
    "#6931 DBD apps\n",
    "dbd_apps = df[(df[\"eli_DBD\"]==1)&(df[\"FAMILY_APPROACHED\"]==2)]\n",
    "\n",
    "#6060 DBD apps to match cohort in pape\n",
    "dbd_apps = dbd_apps[(dbd_apps[\"eth_grp\"]!=5)&(dbd_apps[\"FORMAL_APR_WHEN\"]!=4)&(dbd_apps[\"donation_mentioned\"]!=-1)\n",
    "                    &(dbd_apps[\"FAMILY_WITNESS_BSDT\"]!=9)&(dbd_apps[\"GENDER\"]!=9)]\n",
    "     \n",
    "#9965 DCD apps\n",
    "dcd_apps = df[(df[\"eli_DCD\"]==1)&(df[\"FAMILY_APPROACHED\"]==2)]\n",
    "\n",
    "#9405 DCD apps to match cohort in paper\n",
    "dcd_apps = dcd_apps[(dcd_apps[\"GENDER\"]!=9)&(dcd_apps[\"cod_neuro\"].notna())&(dcd_apps[\"eth_grp\"]!=5)&(dcd_apps[\"donation_mentioned\"]!=-1)&\n",
    "                    (~dcd_apps[\"DTC_WD_TRTMENT_PRESENT\"].isin([8,9]))]\n",
    "\n",
    "# Consented donors only\n",
    "dbd_cons = dbd_apps[dbd_apps[\"FAMILY_CONSENT\"]==2]\n",
    "dcd_cons = dcd_apps[dcd_apps[\"FAMILY_CONSENT\"]==2]"
   ]
  }
 ],
 "metadata": {
  "kernelspec": {
   "display_name": "Python 3 (ipykernel)",
   "language": "python",
   "name": "python3"
  },
  "language_info": {
   "codemirror_mode": {
    "name": "ipython",
    "version": 3
   },
   "file_extension": ".py",
   "mimetype": "text/x-python",
   "name": "python",
   "nbconvert_exporter": "python",
   "pygments_lexer": "ipython3",
   "version": "3.9.7"
  }
 },
 "nbformat": 4,
 "nbformat_minor": 5
}
