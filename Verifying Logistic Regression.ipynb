{
 "cells": [
  {
   "cell_type": "markdown",
   "id": "30bf92ed-8f7f-4af7-982d-78394a361aab",
   "metadata": {},
   "source": [
    "# Logistic regression model\n",
    "\n",
    "## Recreating the logisitic regression from the paper using Sci-kit learn\n",
    "\n",
    "In this notebook a logisitic regression is fit for the DBD and DCD approach data to determine if the Scikit learn LR model is similar to the SAS model. "
   ]
  },
  {
   "cell_type": "code",
   "execution_count": 60,
   "id": "54899de5-1b9a-4544-b10b-248079c82329",
   "metadata": {},
   "outputs": [],
   "source": [
    "import numpy as np\n",
    "import pandas as pd\n",
    "import matplotlib.pyplot as plt\n",
    "from sklearn.model_selection import train_test_split\n",
    "from sklearn.linear_model import LogisticRegression\n",
    "%matplotlib inline"
   ]
  },
  {
   "cell_type": "code",
   "execution_count": 61,
   "id": "ef507fdc-6649-4ec2-960d-c7d3a43bdf0d",
   "metadata": {},
   "outputs": [
    {
     "name": "stderr",
     "output_type": "stream",
     "text": [
      "/Users/roddy.jacques/opt/anaconda3/lib/python3.9/site-packages/pandas/io/sas/sas7bdat.py:800: PerformanceWarning: DataFrame is highly fragmented.  This is usually the result of calling `frame.insert` many times, which has poor performance.  Consider joining all columns at once using pd.concat(axis=1) instead.  To get a de-fragmented frame, use `newframe = frame.copy()`\n",
      "  rslt[name] = self._byte_chunk[jb, :].view(dtype=self.byte_order + \"d\")\n",
      "/Users/roddy.jacques/opt/anaconda3/lib/python3.9/site-packages/pandas/io/sas/sas7bdat.py:809: PerformanceWarning: DataFrame is highly fragmented.  This is usually the result of calling `frame.insert` many times, which has poor performance.  Consider joining all columns at once using pd.concat(axis=1) instead.  To get a de-fragmented frame, use `newframe = frame.copy()`\n",
      "  rslt[name] = self._string_chunk[js, :]\n"
     ]
    }
   ],
   "source": [
    "#import data\n",
    "import pandas as pd\n",
    "\n",
    "#Read in dataset with all rows included\n",
    "df = pd.read_sas(\"Data/alldata3.sas7bdat\")\n",
    "\n",
    "#6931 DBD apps\n",
    "dbd_apps = df[(df[\"eli_DBD\"]==1)&(df[\"FAMILY_APPROACHED\"]==2)]\n",
    "\n",
    "#6060 DBD apps to match cohort in pape\n",
    "dbd_apps = dbd_apps[(dbd_apps[\"eth_grp\"]!=5)&(dbd_apps[\"FORMAL_APR_WHEN\"]!=4)&(dbd_apps[\"donation_mentioned\"]!=-1)\n",
    "                    &(dbd_apps[\"FAMILY_WITNESS_BSDT\"]!=9)&(dbd_apps[\"GENDER\"]!=9)]\n",
    "     \n",
    "#9965 DCD apps\n",
    "dcd_apps = df[(df[\"eli_DCD\"]==1)&(df[\"FAMILY_APPROACHED\"]==2)]\n",
    "\n",
    "#9405 DCD apps to match cohort in paper\n",
    "dcd_apps = dcd_apps[(dcd_apps[\"GENDER\"]!=9)&(dcd_apps[\"cod_neuro\"].notna())&(dcd_apps[\"eth_grp\"]!=5)&(dcd_apps[\"donation_mentioned\"]!=-1)&\n",
    "                    (~dcd_apps[\"DTC_WD_TRTMENT_PRESENT\"].isin([8,9]))]\n"
   ]
  },
  {
   "cell_type": "code",
   "execution_count": 62,
   "id": "3ca3f613-0a83-4711-ba46-6f1b828564b9",
   "metadata": {},
   "outputs": [
    {
     "name": "stdout",
     "output_type": "stream",
     "text": [
      "0 wish_2.0\n",
      "1 wish_3.0\n",
      "2 wish_4.0\n",
      "3 wish_5.0\n",
      "4 FORMAL_APR_WHEN_2.0\n",
      "5 FORMAL_APR_WHEN_3.0\n",
      "6 donation_mentioned_2.0\n",
      "7 donation_mentioned_3.0\n",
      "8 donation_mentioned_4.0\n",
      "9 app_nature_2.0\n",
      "10 app_nature_3.0\n",
      "11 eth_grp_2.0\n",
      "12 eth_grp_3.0\n",
      "13 eth_grp_4.0\n",
      "14 religion_grp_2.0\n",
      "15 religion_grp_3.0\n",
      "16 religion_grp_4.0\n",
      "17 religion_grp_5.0\n",
      "18 religion_grp_9.0\n",
      "19 GENDER_2.0\n",
      "20 FAMILY_WITNESS_BSDT_2.0\n",
      "21 DTC_PRESENT_BSD_CONV_2.0\n",
      "22 acorn_new_2.0\n",
      "23 acorn_new_3.0\n",
      "24 acorn_new_4.0\n",
      "25 acorn_new_5.0\n",
      "26 acorn_new_6.0\n",
      "27 adult_1.0\n"
     ]
    }
   ],
   "source": [
    "# Columns used to create DBD model in paper\n",
    "dbd_cols = [\"wish\", \"FORMAL_APR_WHEN\", \"donation_mentioned\", \"app_nature\", \"eth_grp\", \"religion_grp\", \"GENDER\", \"FAMILY_WITNESS_BSDT\", \"DTC_PRESENT_BSD_CONV\", \n",
    "            \"acorn_new\", \"adult\",\"FAMILY_CONSENT\"]\n",
    "\n",
    "dbd_apps[dbd_cols].astype(int)\n",
    "\n",
    "dbd_model_data = dbd_apps[dbd_cols]\n",
    "dbd_model_data2 = pd.get_dummies(data=dbd_model_data,columns=dbd_cols[:-1],drop_first=True)\n",
    "\n",
    "dbd_features = dbd_model_data2.drop(\"FAMILY_CONSENT\",axis=1)\n",
    "dbd_consents = dbd_model_data2[\"FAMILY_CONSENT\"]\n",
    "\n",
    "dbd_feature_names = dbd_features.columns.tolist()\n",
    "for i,feat in enumerate(dbd_feature_names):\n",
    "    print(i, feat)"
   ]
  },
  {
   "cell_type": "code",
   "execution_count": 63,
   "id": "8e60d71c-ca12-4e26-b3ff-951e71941574",
   "metadata": {},
   "outputs": [
    {
     "name": "stdout",
     "output_type": "stream",
     "text": [
      "0 23.80722980760914\n",
      "1 7.576653765431177\n",
      "2 18.482599727943164\n",
      "3 1.5464623044578556\n",
      "4 0.43437745890520324\n",
      "5 0.3996890769021021\n",
      "6 1.2585124281607571\n",
      "7 1.781352143184595\n",
      "8 2.0113375632390436\n",
      "9 0.8764721474506368\n",
      "10 0.27228412924441264\n",
      "11 0.4983566150649152\n",
      "12 0.2891905071618778\n",
      "13 0.8380086713563211\n",
      "14 0.17052823635951458\n",
      "15 1.3116429685043627\n",
      "16 1.015498704467321\n",
      "17 0.6896515682327877\n",
      "18 0.7845047623914746\n",
      "19 0.7905014126343302\n",
      "20 0.7846916244032003\n",
      "21 1.394171856272005\n",
      "22 0.9334310592493109\n",
      "23 0.9323263580660089\n",
      "24 0.7148737987456711\n",
      "25 0.7526260215983743\n",
      "26 0.7351785513380329\n",
      "27 0.658979306010143\n"
     ]
    }
   ],
   "source": [
    "LR_model = LogisticRegression(penalty='none',solver='newton-cg')\n",
    "\n",
    "DBD_LR = LR_model.fit(dbd_features,dbd_consents)\n",
    "\n",
    "odds_ratios_dbd = np.exp(DBD_LR.coef_) \n",
    "\n",
    "for i,OR in enumerate(odds_ratios_dbd[0]):\n",
    "    print(i, OR)"
   ]
  },
  {
   "cell_type": "code",
   "execution_count": 64,
   "id": "b928e9b9-f694-466a-ab80-29d48c11199c",
   "metadata": {},
   "outputs": [
    {
     "name": "stdout",
     "output_type": "stream",
     "text": [
      "0 wish_2.0\n",
      "1 wish_3.0\n",
      "2 wish_4.0\n",
      "3 wish_5.0\n",
      "4 donation_mentioned_2.0\n",
      "5 donation_mentioned_3.0\n",
      "6 donation_mentioned_4.0\n",
      "7 app_nature_2.0\n",
      "8 app_nature_3.0\n",
      "9 eth_grp_2.0\n",
      "10 eth_grp_3.0\n",
      "11 eth_grp_4.0\n",
      "12 religion_grp_2.0\n",
      "13 religion_grp_3.0\n",
      "14 religion_grp_4.0\n",
      "15 religion_grp_5.0\n",
      "16 religion_grp_9.0\n",
      "17 GENDER_2.0\n",
      "18 DTC_WD_TRTMENT_PRESENT_2.0\n",
      "19 acorn_new_2.0\n",
      "20 acorn_new_3.0\n",
      "21 acorn_new_4.0\n",
      "22 acorn_new_5.0\n",
      "23 acorn_new_6.0\n",
      "24 adult_1.0\n",
      "25 cod_neuro_1.0\n"
     ]
    }
   ],
   "source": [
    "# Columns used to create DCD model in paper\n",
    "dcd_cols = [\"wish\", \"donation_mentioned\", \n",
    "            \"app_nature\", \"eth_grp\", \"religion_grp\", \"GENDER\", \"DTC_WD_TRTMENT_PRESENT\", \n",
    "            \"acorn_new\", \"adult\",\"cod_neuro\",\"FAMILY_CONSENT\"]\n",
    "\n",
    "dcd_apps[dbd_cols].astype(int)\n",
    "\n",
    "dcd_model_data = dcd_apps[dcd_cols]\n",
    "dcd_model_data2 = pd.get_dummies(data=dcd_model_data,columns=dcd_cols[:-1],drop_first=True)\n",
    "\n",
    "dcd_features = dcd_model_data2.drop(\"FAMILY_CONSENT\",axis=1)\n",
    "dcd_consents = dcd_model_data2[\"FAMILY_CONSENT\"]\n",
    "\n",
    "dcd_feature_names = dcd_features.columns.tolist()\n",
    "for i,feat in enumerate(dcd_feature_names):\n",
    "    print(i, feat)"
   ]
  },
  {
   "cell_type": "code",
   "execution_count": 65,
   "id": "e8470cd2-7655-427e-bcf0-6f1f9cc69880",
   "metadata": {},
   "outputs": [
    {
     "name": "stdout",
     "output_type": "stream",
     "text": [
      "0 10.14682075623482\n",
      "1 5.622985008122633\n",
      "2 17.977705392561827\n",
      "3 1.474097788321959\n",
      "4 1.5581170613545272\n",
      "5 2.457709883837136\n",
      "6 2.5294620773138803\n",
      "7 0.9974311742114284\n",
      "8 0.2584502680627293\n",
      "9 0.7853178828580134\n",
      "10 0.469329465412041\n",
      "11 1.0792626365158449\n",
      "12 0.1251994824620407\n",
      "13 0.6504965386512473\n",
      "14 1.2963125246762466\n",
      "15 0.6775928744718072\n",
      "16 0.6720535494174026\n",
      "17 0.861854935728391\n",
      "18 1.4278616534678883\n",
      "19 0.9758525136546797\n",
      "20 0.9249834087443919\n",
      "21 0.9485153185013969\n",
      "22 0.8184484743131082\n",
      "23 0.8476033871458712\n",
      "24 1.2587168336464936\n",
      "25 1.0841089703658375\n"
     ]
    }
   ],
   "source": [
    "DCD_LR = LR_model.fit(dcd_features,dcd_consents)\n",
    "\n",
    "odds_ratios_dcd = np.exp(DCD_LR.coef_) \n",
    "\n",
    "for i,OR in enumerate(odds_ratios_dcd[0]):\n",
    "    print(i, OR)"
   ]
  },
  {
   "cell_type": "code",
   "execution_count": null,
   "id": "c10efb0a-4798-40bc-be0e-f517c973317a",
   "metadata": {},
   "outputs": [],
   "source": []
  }
 ],
 "metadata": {
  "kernelspec": {
   "display_name": "Python 3 (ipykernel)",
   "language": "python",
   "name": "python3"
  },
  "language_info": {
   "codemirror_mode": {
    "name": "ipython",
    "version": 3
   },
   "file_extension": ".py",
   "mimetype": "text/x-python",
   "name": "python",
   "nbconvert_exporter": "python",
   "pygments_lexer": "ipython3",
   "version": "3.9.12"
  }
 },
 "nbformat": 4,
 "nbformat_minor": 5
}
