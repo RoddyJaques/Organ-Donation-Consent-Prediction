{
 "cells": [
  {
   "cell_type": "markdown",
   "id": "30bf92ed-8f7f-4af7-982d-78394a361aab",
   "metadata": {},
   "source": [
    "# Logistic regression model\n",
    "\n",
    "## Recreating the logisitic regression from the paper using Sci-kit learn\n",
    "\n",
    "In this notebook a logisitic regression is fit for the DBD and DCD approach data to determine if the Scikit learn LR model is similar to the SAS model. "
   ]
  },
  {
   "cell_type": "code",
   "execution_count": 4,
   "id": "54899de5-1b9a-4544-b10b-248079c82329",
   "metadata": {},
   "outputs": [],
   "source": [
    "import numpy as np\n",
    "import pandas as pd\n",
    "import matplotlib.pyplot as plt\n",
    "from sklearn.model_selection import train_test_split\n",
    "from sklearn.linear_model import LogisticRegression\n",
    "%matplotlib inline"
   ]
  },
  {
   "cell_type": "code",
   "execution_count": 5,
   "id": "ef507fdc-6649-4ec2-960d-c7d3a43bdf0d",
   "metadata": {},
   "outputs": [],
   "source": [
    "#import data\n",
    "import pandas as pd\n",
    "\n",
    "#Read in dataset with all rows included\n",
    "df = pd.read_sas(\"Data/alldata3.sas7bdat\")\n",
    "\n",
    "#6931 DBD apps\n",
    "dbd_apps = df[(df[\"eli_DBD\"]==1)&(df[\"FAMILY_APPROACHED\"]==2)]\n",
    "\n",
    "#6060 DBD apps to match cohort in pape\n",
    "dbd_apps = dbd_apps[(dbd_apps[\"eth_grp\"]!=5)&(dbd_apps[\"FORMAL_APR_WHEN\"]!=4)&(dbd_apps[\"donation_mentioned\"]!=-1)\n",
    "                    &(dbd_apps[\"FAMILY_WITNESS_BSDT\"]!=9)&(dbd_apps[\"GENDER\"]!=9)]\n",
    "     \n",
    "#9965 DCD apps\n",
    "dcd_apps = df[(df[\"eli_DCD\"]==1)&(df[\"FAMILY_APPROACHED\"]==2)]\n",
    "\n",
    "#9405 DCD apps to match cohort in paper\n",
    "dcd_apps = dcd_apps[(dcd_apps[\"GENDER\"]!=9)&(dcd_apps[\"cod_neuro\"].notna())&(dcd_apps[\"eth_grp\"]!=5)&(dcd_apps[\"donation_mentioned\"]!=-1)&\n",
    "                    (~dcd_apps[\"DTC_WD_TRTMENT_PRESENT\"].isin([8,9]))]\n"
   ]
  },
  {
   "cell_type": "code",
   "execution_count": 15,
   "id": "3ca3f613-0a83-4711-ba46-6f1b828564b9",
   "metadata": {},
   "outputs": [],
   "source": [
    "# Columns used to create DBD model in paper\n",
    "dbd_cols = [\"wish\", \"FORMAL_APR_WHEN\", \"donation_mentioned\", \"app_nature\", \"eth_grp\", \"religion_grp\", \"GENDER\", \"FAMILY_WITNESS_BSDT\", \"DTC_PRESENT_BSD_CONV\", \n",
    "            \"acorn_new\", \"adult\",\"FAMILY_CONSENT\"]\n",
    "\n",
    "dbd_apps[dbd_cols].astype(int)\n",
    "\n",
    "dbd_model_data = dbd_apps[dbd_cols]\n",
    "dbd_model_data2 = pd.get_dummies(data=dbd_model_data,columns=dbd_cols[:-1],drop_first=True)\n",
    "\n",
    "dbd_features = dbd_model_data2.drop(\"FAMILY_CONSENT\",axis=1)\n",
    "dbd_consents = dbd_model_data2[\"FAMILY_CONSENT\"]\n",
    "\n",
    "dbd_feature_names = dbd_features.columns.tolist()"
   ]
  },
  {
   "cell_type": "code",
   "execution_count": 16,
   "id": "8e60d71c-ca12-4e26-b3ff-951e71941574",
   "metadata": {},
   "outputs": [
    {
     "name": "stdout",
     "output_type": "stream",
     "text": [
      "wish_2.0 | 23.80722980760914\n",
      "wish_3.0 | 7.576653765431177\n",
      "wish_4.0 | 18.482599727943164\n",
      "wish_5.0 | 1.5464623044578556\n",
      "FORMAL_APR_WHEN_2.0 | 0.43437745890520324\n",
      "FORMAL_APR_WHEN_3.0 | 0.3996890769021021\n",
      "donation_mentioned_2.0 | 1.2585124281607571\n",
      "donation_mentioned_3.0 | 1.781352143184595\n",
      "donation_mentioned_4.0 | 2.0113375632390436\n",
      "app_nature_2.0 | 0.8764721474506368\n",
      "app_nature_3.0 | 0.27228412924441264\n",
      "eth_grp_2.0 | 0.4983566150649152\n",
      "eth_grp_3.0 | 0.2891905071618778\n",
      "eth_grp_4.0 | 0.8380086713563211\n",
      "religion_grp_2.0 | 0.17052823635951458\n",
      "religion_grp_3.0 | 1.3116429685043627\n",
      "religion_grp_4.0 | 1.015498704467321\n",
      "religion_grp_5.0 | 0.6896515682327877\n",
      "religion_grp_9.0 | 0.7845047623914746\n",
      "GENDER_2.0 | 0.7905014126343302\n",
      "FAMILY_WITNESS_BSDT_2.0 | 0.7846916244032003\n",
      "DTC_PRESENT_BSD_CONV_2.0 | 1.394171856272005\n",
      "acorn_new_2.0 | 0.9334310592493109\n",
      "acorn_new_3.0 | 0.9323263580660089\n",
      "acorn_new_4.0 | 0.7148737987456711\n",
      "acorn_new_5.0 | 0.7526260215983743\n",
      "acorn_new_6.0 | 0.7351785513380329\n",
      "adult_1.0 | 0.658979306010143\n"
     ]
    }
   ],
   "source": [
    "LR_model = LogisticRegression(penalty='none',solver='newton-cg')\n",
    "\n",
    "DBD_LR = LR_model.fit(dbd_features,dbd_consents)\n",
    "\n",
    "odds_ratios_dbd = np.exp(DBD_LR.coef_) \n",
    "\n",
    "for i in range(odds_ratios_dbd.shape[1]):\n",
    "    print(dbd_feature_names[i],\"|\",odds_ratios_dbd[0][i])"
   ]
  },
  {
   "cell_type": "code",
   "execution_count": 17,
   "id": "b928e9b9-f694-466a-ab80-29d48c11199c",
   "metadata": {},
   "outputs": [],
   "source": [
    "# Columns used to create DCD model in paper\n",
    "dcd_cols = [\"wish\", \"donation_mentioned\", \n",
    "            \"app_nature\", \"eth_grp\", \"religion_grp\", \"GENDER\", \"DTC_WD_TRTMENT_PRESENT\", \n",
    "            \"acorn_new\", \"adult\",\"cod_neuro\",\"FAMILY_CONSENT\"]\n",
    "\n",
    "dcd_apps[dbd_cols].astype(int)\n",
    "\n",
    "dcd_model_data = dcd_apps[dcd_cols]\n",
    "dcd_model_data2 = pd.get_dummies(data=dcd_model_data,columns=dcd_cols[:-1],drop_first=True)\n",
    "\n",
    "dcd_features = dcd_model_data2.drop(\"FAMILY_CONSENT\",axis=1)\n",
    "dcd_consents = dcd_model_data2[\"FAMILY_CONSENT\"]\n",
    "\n",
    "dcd_feature_names = dcd_features.columns.tolist()"
   ]
  },
  {
   "cell_type": "code",
   "execution_count": 19,
   "id": "e8470cd2-7655-427e-bcf0-6f1f9cc69880",
   "metadata": {},
   "outputs": [
    {
     "name": "stdout",
     "output_type": "stream",
     "text": [
      "wish_2.0 | 10.14682075623482\n",
      "wish_3.0 | 5.622985008122633\n",
      "wish_4.0 | 17.977705392561827\n",
      "wish_5.0 | 1.474097788321959\n",
      "donation_mentioned_2.0 | 1.5581170613545272\n",
      "donation_mentioned_3.0 | 2.457709883837136\n",
      "donation_mentioned_4.0 | 2.5294620773138803\n",
      "app_nature_2.0 | 0.9974311742114284\n",
      "app_nature_3.0 | 0.2584502680627293\n",
      "eth_grp_2.0 | 0.7853178828580134\n",
      "eth_grp_3.0 | 0.469329465412041\n",
      "eth_grp_4.0 | 1.0792626365158449\n",
      "religion_grp_2.0 | 0.1251994824620407\n",
      "religion_grp_3.0 | 0.6504965386512473\n",
      "religion_grp_4.0 | 1.2963125246762466\n",
      "religion_grp_5.0 | 0.6775928744718072\n",
      "religion_grp_9.0 | 0.6720535494174026\n",
      "GENDER_2.0 | 0.861854935728391\n",
      "DTC_WD_TRTMENT_PRESENT_2.0 | 1.4278616534678883\n",
      "acorn_new_2.0 | 0.9758525136546797\n",
      "acorn_new_3.0 | 0.9249834087443919\n",
      "acorn_new_4.0 | 0.9485153185013969\n",
      "acorn_new_5.0 | 0.8184484743131082\n",
      "acorn_new_6.0 | 0.8476033871458712\n",
      "adult_1.0 | 1.2587168336464936\n",
      "cod_neuro_1.0 | 1.0841089703658375\n"
     ]
    }
   ],
   "source": [
    "DCD_LR = LR_model.fit(dcd_features,dcd_consents)\n",
    "\n",
    "odds_ratios_dcd = np.exp(DCD_LR.coef_) \n",
    "\n",
    "for i in range(odds_ratios_dcd.shape[1]):\n",
    "    print(dcd_feature_names[i],\"|\",odds_ratios_dcd[0][i])"
   ]
  }
 ],
 "metadata": {
  "kernelspec": {
   "display_name": "Python 3 (ipykernel)",
   "language": "python",
   "name": "python3"
  },
  "language_info": {
   "codemirror_mode": {
    "name": "ipython",
    "version": 3
   },
   "file_extension": ".py",
   "mimetype": "text/x-python",
   "name": "python",
   "nbconvert_exporter": "python",
   "pygments_lexer": "ipython3",
   "version": "3.9.7"
  }
 },
 "nbformat": 4,
 "nbformat_minor": 5
}
