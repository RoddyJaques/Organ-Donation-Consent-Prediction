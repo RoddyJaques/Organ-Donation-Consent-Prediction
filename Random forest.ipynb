{
 "cells": [
  {
   "cell_type": "markdown",
   "id": "56733ad6-2e01-440a-b1f2-ab5fdb36a2c2",
   "metadata": {},
   "source": [
    "# Random forest model\n",
    "\n",
    "## Assessing the predictive ability of a random forest model\n",
    "Using a training and testing split of the DCD and DBD datasets to fit and assess the predictive ability of a random forest model"
   ]
  },
  {
   "cell_type": "code",
   "execution_count": 1,
   "id": "349c70cd-a4aa-4d91-b5ba-ffeb4c7594af",
   "metadata": {},
   "outputs": [],
   "source": [
    "import numpy as np\n",
    "import pandas as pd\n",
    "import matplotlib.pyplot as plt\n",
    "from sklearn.model_selection import train_test_split, GridSearchCV\n",
    "from sklearn.ensemble import RandomForestClassifier\n",
    "import sklearn.metrics as mets\n",
    "%matplotlib inline"
   ]
  },
  {
   "cell_type": "code",
   "execution_count": 2,
   "id": "2971600f-bfdd-4da6-84a6-99da4e72fd10",
   "metadata": {},
   "outputs": [
    {
     "name": "stderr",
     "output_type": "stream",
     "text": [
      "/Users/roddy.jacques/opt/anaconda3/lib/python3.9/site-packages/pandas/io/sas/sas7bdat.py:800: PerformanceWarning: DataFrame is highly fragmented.  This is usually the result of calling `frame.insert` many times, which has poor performance.  Consider joining all columns at once using pd.concat(axis=1) instead.  To get a de-fragmented frame, use `newframe = frame.copy()`\n",
      "  rslt[name] = self._byte_chunk[jb, :].view(dtype=self.byte_order + \"d\")\n",
      "/Users/roddy.jacques/opt/anaconda3/lib/python3.9/site-packages/pandas/io/sas/sas7bdat.py:809: PerformanceWarning: DataFrame is highly fragmented.  This is usually the result of calling `frame.insert` many times, which has poor performance.  Consider joining all columns at once using pd.concat(axis=1) instead.  To get a de-fragmented frame, use `newframe = frame.copy()`\n",
      "  rslt[name] = self._string_chunk[js, :]\n"
     ]
    }
   ],
   "source": [
    "#Read in dataset with all rows included\n",
    "df = pd.read_sas(\"Data/alldata3.sas7bdat\")\n",
    "\n",
    "#6931 DBD apps\n",
    "dbd_apps = df[(df[\"eli_DBD\"]==1)&(df[\"FAMILY_APPROACHED\"]==2)]\n",
    "\n",
    "#6060 DBD apps to match cohort in paper\n",
    "dbd_apps = dbd_apps[(dbd_apps[\"eth_grp\"]!=5)&(dbd_apps[\"FORMAL_APR_WHEN\"]!=4)&(dbd_apps[\"donation_mentioned\"]!=-1)\n",
    "                    &(dbd_apps[\"FAMILY_WITNESS_BSDT\"]!=9)&(dbd_apps[\"GENDER\"]!=9)]\n",
    "     \n",
    "#9965 DCD apps\n",
    "dcd_apps = df[(df[\"eli_DCD\"]==1)&(df[\"FAMILY_APPROACHED\"]==2)]\n",
    "\n",
    "#9405 DCD apps to match cohort in paper\n",
    "dcd_apps = dcd_apps[(dcd_apps[\"GENDER\"]!=9)&(dcd_apps[\"cod_neuro\"].notna())&(dcd_apps[\"eth_grp\"]!=5)&(dcd_apps[\"donation_mentioned\"]!=-1)&\n",
    "                    (~dcd_apps[\"DTC_WD_TRTMENT_PRESENT\"].isin([8,9]))]\n",
    "\n",
    "# Columns used to create DBD model in paper\n",
    "dbd_cols = [\"wish\", \"FORMAL_APR_WHEN\", \"donation_mentioned\", \"app_nature\", \"eth_grp\", \"religion_grp\", \"GENDER\", \"FAMILY_WITNESS_BSDT\", \"DTC_PRESENT_BSD_CONV\", \n",
    "            \"acorn_new\", \"adult\",\"FAMILY_CONSENT\"]\n",
    "\n",
    "dbd_apps[dbd_cols].astype(int)\n",
    "\n",
    "dbd_model_data = dbd_apps[dbd_cols]\n",
    "dbd_model_data2 = pd.get_dummies(data=dbd_model_data,columns=dbd_cols[:-1],drop_first=True)\n",
    "\n",
    "dbd_features = dbd_model_data2.drop(\"FAMILY_CONSENT\",axis=1)\n",
    "dbd_consents = dbd_model_data2[\"FAMILY_CONSENT\"]\n",
    "\n",
    "# Columns used to create DCD model in paper\n",
    "dcd_cols = [\"wish\", \"donation_mentioned\", \n",
    "            \"app_nature\", \"eth_grp\", \"religion_grp\", \"GENDER\", \"DTC_WD_TRTMENT_PRESENT\", \n",
    "            \"acorn_new\", \"adult\",\"cod_neuro\",\"FAMILY_CONSENT\"]\n",
    "\n",
    "dcd_apps[dbd_cols].astype(int)\n",
    "\n",
    "dcd_model_data = dcd_apps[dcd_cols]\n",
    "dcd_model_data2 = pd.get_dummies(data=dcd_model_data,columns=dcd_cols[:-1],drop_first=True)\n",
    "\n",
    "dcd_features = dcd_model_data2.drop(\"FAMILY_CONSENT\",axis=1)\n",
    "dcd_consents = dcd_model_data2[\"FAMILY_CONSENT\"]\n",
    "\n",
    "# creating a train and testing dataset for DBD and DCD approaches\n",
    "\n",
    "# 1382 consents, 618 non-consents in test data\n",
    "DBD_X_train, DBD_X_test, DBD_y_train, DBD_y_test = train_test_split(dbd_features,dbd_consents, test_size=0.33, random_state=10)\n",
    "\n",
    "# 1865 consents, 1239 non-consents in t\n",
    "DCD_X_train, DCD_X_test, DCD_y_train, DCD_y_test = train_test_split(dcd_features,dcd_consents, test_size=0.33, random_state=10)"
   ]
  },
  {
   "cell_type": "code",
   "execution_count": 27,
   "id": "67b8d836-2fa2-419a-b68d-345ec189ab18",
   "metadata": {},
   "outputs": [],
   "source": [
    "# fitting tree to training data \n",
    "tree_model = RandomForestClassifier(n_estimators=10)"
   ]
  },
  {
   "cell_type": "code",
   "execution_count": 28,
   "id": "5c6ada3a-8786-4e64-93b7-ce465e4dad2a",
   "metadata": {},
   "outputs": [
    {
     "name": "stdout",
     "output_type": "stream",
     "text": [
      "TN  FN\n",
      "FP  TP\n",
      "\n",
      "320    298\n",
      "290    1092\n",
      "\n",
      "              precision    recall  f1-score   support\n",
      "\n",
      "         1.0       0.52      0.52      0.52       618\n",
      "         2.0       0.79      0.79      0.79      1382\n",
      "\n",
      "    accuracy                           0.71      2000\n",
      "   macro avg       0.66      0.65      0.65      2000\n",
      "weighted avg       0.70      0.71      0.71      2000\n",
      "\n",
      "Balanced accuracy: 0.65\n",
      "Accuracy: 0.71\n"
     ]
    }
   ],
   "source": [
    "DBD_tree = tree_model.fit(DBD_X_train,DBD_y_train)\n",
    "\n",
    "DBD_preds = DBD_tree.predict(DBD_X_test)\n",
    "\n",
    "cm = mets.confusion_matrix(DBD_y_test, DBD_preds)\n",
    "\n",
    "print(\"TN  FN\\nFP  TP\\n\")\n",
    "print(str(int(cm[0,0])) + \"    \" + str(int(cm[0,1])))\n",
    "print(str(int(cm[1,0])) + \"    \" + str(int(cm[1,1])) + \"\\n\") \n",
    "\n",
    "# classification report for DBD model\n",
    "print(mets.classification_report(DBD_y_test, DBD_preds))\n",
    "\n",
    "print(\"Balanced accuracy: \" + str(round(mets.balanced_accuracy_score(DBD_y_test, DBD_preds),2)))\n",
    "\n",
    "print(\"Accuracy: \" + str(round(mets.accuracy_score(DBD_y_test, DBD_preds),2)))"
   ]
  },
  {
   "cell_type": "code",
   "execution_count": null,
   "id": "90f85a0c-3a10-4e21-8474-44f9b0c8e147",
   "metadata": {},
   "outputs": [],
   "source": [
    "# Plot tree\n",
    "# fig,ax = plt.subplots(1,1,figsize=[100,100])\n",
    "# plot_tree(DBD_tree,feature_names=dbd_features.columns,class_names=[\"Non-consent\",\"Consent\"])\n",
    "# plt.show()"
   ]
  },
  {
   "cell_type": "code",
   "execution_count": null,
   "id": "6cb3d982-8a27-4319-a4de-1c89f23b4760",
   "metadata": {},
   "outputs": [
    {
     "name": "stdout",
     "output_type": "stream",
     "text": [
      "TN  FN\n",
      "FP  TP\n",
      "\n",
      "783    456\n",
      "448    1417\n",
      "\n",
      "              precision    recall  f1-score   support\n",
      "\n",
      "         1.0       0.64      0.63      0.63      1239\n",
      "         2.0       0.76      0.76      0.76      1865\n",
      "\n",
      "    accuracy                           0.71      3104\n",
      "   macro avg       0.70      0.70      0.70      3104\n",
      "weighted avg       0.71      0.71      0.71      3104\n",
      "\n",
      "Cohen kappa: 0.39\n",
      "Balanced accuracy: 0.7\n",
      "Accuracy: 0.71\n"
     ]
    }
   ],
   "source": [
    "DCD_tree = tree_model.fit(DCD_X_train,DCD_y_train)\n",
    "\n",
    "DCD_preds = DCD_tree.predict(DCD_X_test)\n",
    "\n",
    "dcd_cm = mets.confusion_matrix(DCD_y_test, DCD_preds)\n",
    "\n",
    "print(\"TN  FN\\nFP  TP\\n\")\n",
    "print(str(int(dcd_cm[0,0])) + \"    \" + str(int(dcd_cm[0,1])))\n",
    "print(str(int(dcd_cm[1,0])) + \"    \" + str(int(dcd_cm[1,1])) + \"\\n\") \n",
    "\n",
    "# classification report for DCD model\n",
    "print(mets.classification_report(DCD_y_test, DCD_preds))\n",
    "\n",
    "print(\"Cohen kappa: \" + str(round(mets.cohen_kappa_score(DCD_y_test, DCD_preds),2)))\n",
    "\n",
    "print(\"Balanced accuracy: \" + str(round(mets.balanced_accuracy_score(DCD_y_test, DCD_preds),2)))\n",
    "\n",
    "print(\"Accuracy: \" + str(round(mets.accuracy_score(DCD_y_test, DCD_preds),2)))"
   ]
  },
  {
   "cell_type": "markdown",
   "id": "40f5347f-cbdd-48c8-a446-5933099aed3c",
   "metadata": {},
   "source": [
    "## Hyperparameter tuning"
   ]
  },
  {
   "cell_type": "code",
   "execution_count": 12,
   "id": "e45d53a0-0e94-4848-a18c-83cd0dbaa171",
   "metadata": {},
   "outputs": [
    {
     "name": "stdout",
     "output_type": "stream",
     "text": [
      "{'class_weight': {1.0: 2.75, 2.0: 1}, 'max_depth': 26, 'min_samples_split': 177, 'n_estimators': 50}\n",
      "0.7497479664748189\n"
     ]
    }
   ],
   "source": [
    "cv_forest_model = RandomForestClassifier(random_state=66)\n",
    "\n",
    "weights = []\n",
    "for w in np.arange(2,4,step=0.25):\n",
    "    w_dic = {1.0:w,2.0:1}\n",
    "    weights.append(w_dic)\n",
    "\n",
    "params = {'max_depth':np.arange(1,200,step=25),'min_samples_split':np.arange(2,200,step=25),'class_weight':weights,'n_estimators':np.arange(10,100,step=10)}\n",
    "\n",
    "gs_forest_model = GridSearchCV(cv_forest_model, param_grid=params, scoring=\"balanced_accuracy\",cv=5)\n",
    "\n",
    "gs_forest_model.fit(DBD_X_train,DBD_y_train)\n",
    "\n",
    "gs_forest_model.score(DBD_X_train,DBD_y_train)\n",
    "\n",
    "print(gs_forest_model.best_params_)\n",
    "print(gs_forest_model.best_score_)"
   ]
  },
  {
   "cell_type": "code",
   "execution_count": 13,
   "id": "5ccf8ecd-e838-49ff-85db-bff5fccc1760",
   "metadata": {},
   "outputs": [
    {
     "name": "stdout",
     "output_type": "stream",
     "text": [
      "TN  FN\n",
      "FP  TP\n",
      "\n",
      "541    77\n",
      "524    858\n",
      "\n",
      "              precision    recall  f1-score   support\n",
      "\n",
      "         1.0       0.51      0.88      0.64       618\n",
      "         2.0       0.92      0.62      0.74      1382\n",
      "\n",
      "    accuracy                           0.70      2000\n",
      "   macro avg       0.71      0.75      0.69      2000\n",
      "weighted avg       0.79      0.70      0.71      2000\n",
      "\n",
      "Balanced accuracy: 0.75\n",
      "Accuracy: 0.7\n"
     ]
    }
   ],
   "source": [
    "DBD_preds = gs_forest_model.predict(DBD_X_test)\n",
    "\n",
    "cm = mets.confusion_matrix(DBD_y_test, DBD_preds)\n",
    "\n",
    "print(\"TN  FN\\nFP  TP\\n\")\n",
    "print(str(int(cm[0,0])) + \"    \" + str(int(cm[0,1])))\n",
    "print(str(int(cm[1,0])) + \"    \" + str(int(cm[1,1])) + \"\\n\") \n",
    "\n",
    "# classification report for DBD model\n",
    "print(mets.classification_report(DBD_y_test, DBD_preds))\n",
    "\n",
    "print(\"Balanced accuracy: \" + str(round(mets.balanced_accuracy_score(DBD_y_test, DBD_preds),2)))\n",
    "\n",
    "print(\"Accuracy: \" + str(round(mets.accuracy_score(DBD_y_test, DBD_preds),2)))"
   ]
  },
  {
   "cell_type": "code",
   "execution_count": null,
   "id": "4eb9376b-8e47-4a23-9ebd-127ea2c910ac",
   "metadata": {},
   "outputs": [],
   "source": []
  }
 ],
 "metadata": {
  "kernelspec": {
   "display_name": "Python 3 (ipykernel)",
   "language": "python",
   "name": "python3"
  },
  "language_info": {
   "codemirror_mode": {
    "name": "ipython",
    "version": 3
   },
   "file_extension": ".py",
   "mimetype": "text/x-python",
   "name": "python",
   "nbconvert_exporter": "python",
   "pygments_lexer": "ipython3",
   "version": "3.9.7"
  }
 },
 "nbformat": 4,
 "nbformat_minor": 5
}
