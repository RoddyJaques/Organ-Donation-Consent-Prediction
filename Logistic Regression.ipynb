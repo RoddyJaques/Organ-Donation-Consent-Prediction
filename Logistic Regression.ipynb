{
 "cells": [
  {
   "cell_type": "markdown",
   "id": "30bf92ed-8f7f-4af7-982d-78394a361aab",
   "metadata": {},
   "source": [
    "# Logistic regression model\n",
    "\n",
    "## Recreating the logisitic regression from the paper using Sci-kit learn"
   ]
  },
  {
   "cell_type": "code",
   "execution_count": 49,
   "id": "54899de5-1b9a-4544-b10b-248079c82329",
   "metadata": {},
   "outputs": [],
   "source": [
    "import numpy as np\n",
    "import pandas as pd\n",
    "import matplotlib.pyplot as plt\n",
    "from sklearn.model_selection import train_test_split\n",
    "from sklearn.linear_model import LogisticRegression\n",
    "import string as str\n",
    "%matplotlib inline"
   ]
  },
  {
   "cell_type": "code",
   "execution_count": 50,
   "id": "ef507fdc-6649-4ec2-960d-c7d3a43bdf0d",
   "metadata": {},
   "outputs": [
    {
     "name": "stderr",
     "output_type": "stream",
     "text": [
      "/Users/roddy.jacques/opt/anaconda3/lib/python3.9/site-packages/pandas/io/sas/sas7bdat.py:800: PerformanceWarning: DataFrame is highly fragmented.  This is usually the result of calling `frame.insert` many times, which has poor performance.  Consider joining all columns at once using pd.concat(axis=1) instead.  To get a de-fragmented frame, use `newframe = frame.copy()`\n",
      "  rslt[name] = self._byte_chunk[jb, :].view(dtype=self.byte_order + \"d\")\n",
      "/Users/roddy.jacques/opt/anaconda3/lib/python3.9/site-packages/pandas/io/sas/sas7bdat.py:809: PerformanceWarning: DataFrame is highly fragmented.  This is usually the result of calling `frame.insert` many times, which has poor performance.  Consider joining all columns at once using pd.concat(axis=1) instead.  To get a de-fragmented frame, use `newframe = frame.copy()`\n",
      "  rslt[name] = self._string_chunk[js, :]\n"
     ]
    }
   ],
   "source": [
    "#import data\n",
    "import pandas as pd\n",
    "\n",
    "#Read in dataset with all rows included\n",
    "df = pd.read_sas(\"/Users/roddy.jacques/Documents/DSA Project/Data/alldata3.sas7bdat\")\n",
    "\n",
    "#6931 DBD apps\n",
    "dbd_apps = df[(df[\"eli_DBD\"]==1)&(df[\"FAMILY_APPROACHED\"]==2)]\n",
    "\n",
    "#6060 DBD apps to match cohort in pape\n",
    "dbd_apps = dbd_apps[(dbd_apps[\"eth_grp\"]!=5)&(dbd_apps[\"FORMAL_APR_WHEN\"]!=4)&(dbd_apps[\"donation_mentioned\"]!=-1)\n",
    "                    &(dbd_apps[\"FAMILY_WITNESS_BSDT\"]!=9)&(dbd_apps[\"GENDER\"]!=9)]\n",
    "     \n",
    "#9965 DCD apps\n",
    "dcd_apps = df[(df[\"eli_DCD\"]==1)&(df[\"FAMILY_APPROACHED\"]==2)]\n",
    "\n",
    "#9405 DCD apps to match cohort in paper\n",
    "dcd_apps = dcd_apps[(dcd_apps[\"GENDER\"]!=9)&(dcd_apps[\"cod_neuro\"].notna())&(dcd_apps[\"eth_grp\"]!=5)&(dcd_apps[\"donation_mentioned\"]!=-1)&\n",
    "                    (~dcd_apps[\"DTC_WD_TRTMENT_PRESENT\"].isin([8,9]))]"
   ]
  },
  {
   "cell_type": "code",
   "execution_count": 66,
   "id": "3ca3f613-0a83-4711-ba46-6f1b828564b9",
   "metadata": {},
   "outputs": [],
   "source": [
    "# Columns used to create DBD model in paper\n",
    "dbd_cols = [\"wish\", \"FORMAL_APR_WHEN\", \"donation_mentioned\", \"app_nature\", \"eth_grp\", \"religion_grp\", \"GENDER\", \"FAMILY_WITNESS_BSDT\", \"DTC_PRESENT_BSD_CONV\", \n",
    "            \"acorn_new\", \"adult\",\"FAMILY_CONSENT\"]\n",
    "\n",
    "dbd_apps[dbd_cols].astype(int)\n",
    "\n",
    "dbd_model_data = dbd_apps[dbd_cols]\n",
    "dbd_model_data2 = pd.get_dummies(data=dbd_model_data,columns=dbd_cols[:-1])\n",
    "\n",
    "dbd_features = dbd_model_data2.drop(\"FAMILY_CONSENT\",axis=1)\n",
    "dbd_consents = dbd_model_data2[\"FAMILY_CONSENT\"]\n",
    "\n",
    "dbd_feature_names = dbd_features.columns.tolist()"
   ]
  },
  {
   "cell_type": "code",
   "execution_count": 73,
   "id": "8e60d71c-ca12-4e26-b3ff-951e71941574",
   "metadata": {},
   "outputs": [
    {
     "ename": "ValueError",
     "evalue": "setting an array element with a sequence",
     "output_type": "error",
     "traceback": [
      "\u001b[0;31m---------------------------------------------------------------------------\u001b[0m",
      "\u001b[0;31mValueError\u001b[0m                                Traceback (most recent call last)",
      "\u001b[0;32m/var/folders/v8/6hf3x6kj5g3df3bftwxyp0480000gp/T/ipykernel_6730/4155568020.py\u001b[0m in \u001b[0;36m<module>\u001b[0;34m\u001b[0m\n\u001b[1;32m      8\u001b[0m \u001b[0;34m\u001b[0m\u001b[0m\n\u001b[1;32m      9\u001b[0m \u001b[0;32mfor\u001b[0m \u001b[0mi\u001b[0m \u001b[0;32min\u001b[0m \u001b[0mrange\u001b[0m\u001b[0;34m(\u001b[0m\u001b[0;36m39\u001b[0m\u001b[0;34m)\u001b[0m\u001b[0;34m:\u001b[0m\u001b[0;34m\u001b[0m\u001b[0;34m\u001b[0m\u001b[0m\n\u001b[0;32m---> 10\u001b[0;31m     \u001b[0mvar_names\u001b[0m\u001b[0;34m[\u001b[0m\u001b[0mi\u001b[0m\u001b[0;34m]\u001b[0m \u001b[0;34m=\u001b[0m \u001b[0mdbd_feature_names\u001b[0m\u001b[0;34m[\u001b[0m\u001b[0mi\u001b[0m\u001b[0;34m]\u001b[0m\u001b[0;34m.\u001b[0m\u001b[0mrsplit\u001b[0m\u001b[0;34m(\u001b[0m\u001b[0;34m\"_\"\u001b[0m\u001b[0;34m,\u001b[0m\u001b[0;36m1\u001b[0m\u001b[0;34m)\u001b[0m\u001b[0;34m\u001b[0m\u001b[0;34m\u001b[0m\u001b[0m\n\u001b[0m\u001b[1;32m     11\u001b[0m \u001b[0;34m\u001b[0m\u001b[0m\n\u001b[1;32m     12\u001b[0m \u001b[0mvar_names\u001b[0m\u001b[0;34m\u001b[0m\u001b[0;34m\u001b[0m\u001b[0m\n",
      "\u001b[0;31mValueError\u001b[0m: setting an array element with a sequence"
     ]
    }
   ],
   "source": [
    "LR_model = LogisticRegression(penalty='none')\n",
    "\n",
    "LR_model.fit(dbd_features,dbd_consents)\n",
    "\n",
    "odds_ratios = np.exp(LR_model.coef_) \n",
    "\n",
    "var_names = np.empty(39,dtype=\"str\")\n",
    "\n",
    "for i in range(39):\n",
    "    var_names[i] = dbd_feature_names[i].rsplit(\"_\",1)\n",
    "    \n",
    "var_names"
   ]
  },
  {
   "cell_type": "code",
   "execution_count": 47,
   "id": "012580ca-e7ad-4c1f-8328-d5867082d59c",
   "metadata": {},
   "outputs": [
    {
     "data": {
      "text/plain": [
       "array([['wish_1.0', '0.19286004024379008'],\n",
       "       ['wish_2.0', '4.591863674646195'],\n",
       "       ['wish_3.0', '1.4613286364010425'],\n",
       "       ['wish_4.0', '3.563264061358002'],\n",
       "       ['wish_5.0', '0.29824758358901193'],\n",
       "       ['FORMAL_APR_WHEN_1.0', '1.9935143421525394'],\n",
       "       ['FORMAL_APR_WHEN_2.0', '0.8658885020778523'],\n",
       "       ['FORMAL_APR_WHEN_3.0', '0.7967512215531105'],\n",
       "       ['donation_mentioned_1.0', '0.7433358679125524'],\n",
       "       ['donation_mentioned_2.0', '0.9356188221607649'],\n",
       "       ['donation_mentioned_3.0', '1.3229661935567882'],\n",
       "       ['donation_mentioned_4.0', '1.4947593870990241'],\n",
       "       ['app_nature_1.0', '1.7930829135508939'],\n",
       "       ['app_nature_2.0', '1.5715218897351706'],\n",
       "       ['app_nature_3.0', '0.488071297547716'],\n",
       "       ['eth_grp_1.0', '1.837073139892467'],\n",
       "       ['eth_grp_2.0', '0.9152575645804563'],\n",
       "       ['eth_grp_3.0', '0.5312677738633718'],\n",
       "       ['eth_grp_4.0', '1.5396458229142043'],\n",
       "       ['religion_grp_1.0', '1.495432715849936'],\n",
       "       ['religion_grp_2.0', '0.25515701886180314'],\n",
       "       ['religion_grp_3.0', '1.9624726391268397'],\n",
       "       ['religion_grp_4.0', '1.5184469046009799'],\n",
       "       ['religion_grp_5.0', '1.0310417034116819'],\n",
       "       ['religion_grp_9.0', '1.1731410328023228'],\n",
       "       ['GENDER_1.0', '1.319004390133354'],\n",
       "       ['GENDER_2.0', '1.0426963042985165'],\n",
       "       ['FAMILY_WITNESS_BSDT_1.0', '1.3238995193443435'],\n",
       "       ['FAMILY_WITNESS_BSDT_2.0', '1.0388409262560137'],\n",
       "       ['DTC_PRESENT_BSD_CONV_1.0', '0.993279027023515'],\n",
       "       ['DTC_PRESENT_BSD_CONV_2.0', '1.3846270438900619'],\n",
       "       ['acorn_new_1.0', '1.2595905627345285'],\n",
       "       ['acorn_new_2.0', '1.1758641330340591'],\n",
       "       ['acorn_new_3.0', '1.1744176321031716'],\n",
       "       ['acorn_new_4.0', '0.900584031922143'],\n",
       "       ['acorn_new_5.0', '0.9480168861037402'],\n",
       "       ['acorn_new_6.0', '0.9260931150053588'],\n",
       "       ['adult_0.0', '1.4446190103608998'],\n",
       "       ['adult_1.0', '0.9520302537081926']], dtype='<U32')"
      ]
     },
     "execution_count": 47,
     "metadata": {},
     "output_type": "execute_result"
    }
   ],
   "source": [
    "cols_and_ors = np.column_stack([dbd_features.columns.tolist(),odds_ratios[0]])\n",
    "cols_and_ors"
   ]
  },
  {
   "cell_type": "code",
   "execution_count": null,
   "id": "2c5b1787-a169-4c56-b91d-1b07e1b465ec",
   "metadata": {},
   "outputs": [],
   "source": []
  }
 ],
 "metadata": {
  "kernelspec": {
   "display_name": "Python 3 (ipykernel)",
   "language": "python",
   "name": "python3"
  },
  "language_info": {
   "codemirror_mode": {
    "name": "ipython",
    "version": 3
   },
   "file_extension": ".py",
   "mimetype": "text/x-python",
   "name": "python",
   "nbconvert_exporter": "python",
   "pygments_lexer": "ipython3",
   "version": "3.9.7"
  }
 },
 "nbformat": 4,
 "nbformat_minor": 5
}
