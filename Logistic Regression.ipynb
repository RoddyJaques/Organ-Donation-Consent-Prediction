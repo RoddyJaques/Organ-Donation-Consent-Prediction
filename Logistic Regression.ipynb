{
 "cells": [
  {
   "cell_type": "markdown",
   "id": "30bf92ed-8f7f-4af7-982d-78394a361aab",
   "metadata": {},
   "source": [
    "# Logistic regression model\n",
    "\n",
    "## Recreating the logisitic regression from the paper using Sci-kit learn"
   ]
  },
  {
   "cell_type": "code",
   "execution_count": 49,
   "id": "54899de5-1b9a-4544-b10b-248079c82329",
   "metadata": {},
   "outputs": [],
   "source": [
    "import numpy as np\n",
    "import pandas as pd\n",
    "import matplotlib.pyplot as plt\n",
    "from sklearn.model_selection import train_test_split\n",
    "from sklearn.linear_model import LogisticRegression\n",
    "import string as str\n",
    "%matplotlib inline"
   ]
  },
  {
   "cell_type": "code",
   "execution_count": 50,
   "id": "ef507fdc-6649-4ec2-960d-c7d3a43bdf0d",
   "metadata": {},
   "outputs": [
    {
     "name": "stderr",
     "output_type": "stream",
     "text": [
      "/Users/roddy.jacques/opt/anaconda3/lib/python3.9/site-packages/pandas/io/sas/sas7bdat.py:800: PerformanceWarning: DataFrame is highly fragmented.  This is usually the result of calling `frame.insert` many times, which has poor performance.  Consider joining all columns at once using pd.concat(axis=1) instead.  To get a de-fragmented frame, use `newframe = frame.copy()`\n",
      "  rslt[name] = self._byte_chunk[jb, :].view(dtype=self.byte_order + \"d\")\n",
      "/Users/roddy.jacques/opt/anaconda3/lib/python3.9/site-packages/pandas/io/sas/sas7bdat.py:809: PerformanceWarning: DataFrame is highly fragmented.  This is usually the result of calling `frame.insert` many times, which has poor performance.  Consider joining all columns at once using pd.concat(axis=1) instead.  To get a de-fragmented frame, use `newframe = frame.copy()`\n",
      "  rslt[name] = self._string_chunk[js, :]\n"
     ]
    }
   ],
   "source": [
    "#import data\n",
    "import pandas as pd\n",
    "\n",
    "#Read in dataset with all rows included\n",
    "df = pd.read_sas(\"/Users/roddy.jacques/Documents/DSA Project/Data/alldata3.sas7bdat\")\n",
    "\n",
    "#6931 DBD apps\n",
    "dbd_apps = df[(df[\"eli_DBD\"]==1)&(df[\"FAMILY_APPROACHED\"]==2)]\n",
    "\n",
    "#6060 DBD apps to match cohort in pape\n",
    "dbd_apps = dbd_apps[(dbd_apps[\"eth_grp\"]!=5)&(dbd_apps[\"FORMAL_APR_WHEN\"]!=4)&(dbd_apps[\"donation_mentioned\"]!=-1)\n",
    "                    &(dbd_apps[\"FAMILY_WITNESS_BSDT\"]!=9)&(dbd_apps[\"GENDER\"]!=9)]\n",
    "     \n",
    "#9965 DCD apps\n",
    "dcd_apps = df[(df[\"eli_DCD\"]==1)&(df[\"FAMILY_APPROACHED\"]==2)]\n",
    "\n",
    "#9405 DCD apps to match cohort in paper\n",
    "dcd_apps = dcd_apps[(dcd_apps[\"GENDER\"]!=9)&(dcd_apps[\"cod_neuro\"].notna())&(dcd_apps[\"eth_grp\"]!=5)&(dcd_apps[\"donation_mentioned\"]!=-1)&\n",
    "                    (~dcd_apps[\"DTC_WD_TRTMENT_PRESENT\"].isin([8,9]))]"
   ]
  },
  {
   "cell_type": "code",
   "execution_count": 66,
   "id": "3ca3f613-0a83-4711-ba46-6f1b828564b9",
   "metadata": {},
   "outputs": [],
   "source": [
    "# Columns used to create DBD model in paper\n",
    "dbd_cols = [\"wish\", \"FORMAL_APR_WHEN\", \"donation_mentioned\", \"app_nature\", \"eth_grp\", \"religion_grp\", \"GENDER\", \"FAMILY_WITNESS_BSDT\", \"DTC_PRESENT_BSD_CONV\", \n",
    "            \"acorn_new\", \"adult\",\"FAMILY_CONSENT\"]\n",
    "\n",
    "dbd_apps[dbd_cols].astype(int)\n",
    "\n",
    "dbd_model_data = dbd_apps[dbd_cols]\n",
    "dbd_model_data2 = pd.get_dummies(data=dbd_model_data,columns=dbd_cols[:-1])\n",
    "\n",
    "dbd_features = dbd_model_data2.drop(\"FAMILY_CONSENT\",axis=1)\n",
    "dbd_consents = dbd_model_data2[\"FAMILY_CONSENT\"]\n",
    "\n",
    "dbd_feature_names = dbd_features.columns.tolist()"
   ]
  },
  {
   "cell_type": "code",
   "execution_count": 80,
   "id": "8e60d71c-ca12-4e26-b3ff-951e71941574",
   "metadata": {},
   "outputs": [
    {
     "data": {
      "text/plain": [
       "array(['wish', 'wish', 'wish', 'wish', 'wish', 'FORMAL_APR_WHEN',\n",
       "       'FORMAL_APR_WHEN', 'FORMAL_APR_WHEN', 'donation_mentioned',\n",
       "       'donation_mentioned', 'donation_mentioned', 'donation_mentioned',\n",
       "       'app_nature', 'app_nature', 'app_nature', 'eth_grp', 'eth_grp',\n",
       "       'eth_grp', 'eth_grp', 'religion_grp', 'religion_grp',\n",
       "       'religion_grp', 'religion_grp', 'religion_grp', 'religion_grp',\n",
       "       'GENDER', 'GENDER', 'FAMILY_WITNESS_BSDT', 'FAMILY_WITNESS_BSDT',\n",
       "       'DTC_PRESENT_BSD_CONV', 'DTC_PRESENT_BSD_CONV', 'acorn_new',\n",
       "       'acorn_new', 'acorn_new', 'acorn_new', 'acorn_new', 'acorn_new',\n",
       "       'adult', 'adult'], dtype='<U25')"
      ]
     },
     "execution_count": 80,
     "metadata": {},
     "output_type": "execute_result"
    }
   ],
   "source": [
    "LR_model = LogisticRegression(penalty='none')\n",
    "\n",
    "LR_model.fit(dbd_features,dbd_consents)\n",
    "\n",
    "odds_ratios = np.exp(LR_model.coef_) \n",
    "\n",
    "var_names = np.empty(39,dtype=\"U25\")\n",
    "\n",
    "for i in range(39):\n",
    "    var_names[i] = dbd_feature_names[i].rsplit(\"_\",1)[0]\n",
    "var_names"
   ]
  },
  {
   "cell_type": "code",
   "execution_count": 84,
   "id": "012580ca-e7ad-4c1f-8328-d5867082d59c",
   "metadata": {},
   "outputs": [
    {
     "data": {
      "text/html": [
       "<div>\n",
       "<style scoped>\n",
       "    .dataframe tbody tr th:only-of-type {\n",
       "        vertical-align: middle;\n",
       "    }\n",
       "\n",
       "    .dataframe tbody tr th {\n",
       "        vertical-align: top;\n",
       "    }\n",
       "\n",
       "    .dataframe thead th {\n",
       "        text-align: right;\n",
       "    }\n",
       "</style>\n",
       "<table border=\"1\" class=\"dataframe\">\n",
       "  <thead>\n",
       "    <tr style=\"text-align: right;\">\n",
       "      <th></th>\n",
       "      <th>0</th>\n",
       "      <th>1</th>\n",
       "      <th>2</th>\n",
       "    </tr>\n",
       "  </thead>\n",
       "  <tbody>\n",
       "    <tr>\n",
       "      <th>0</th>\n",
       "      <td>wish_1.0</td>\n",
       "      <td>wish</td>\n",
       "      <td>0.19286004024379008</td>\n",
       "    </tr>\n",
       "    <tr>\n",
       "      <th>1</th>\n",
       "      <td>wish_2.0</td>\n",
       "      <td>wish</td>\n",
       "      <td>4.591863674646195</td>\n",
       "    </tr>\n",
       "    <tr>\n",
       "      <th>2</th>\n",
       "      <td>wish_3.0</td>\n",
       "      <td>wish</td>\n",
       "      <td>1.4613286364010425</td>\n",
       "    </tr>\n",
       "    <tr>\n",
       "      <th>3</th>\n",
       "      <td>wish_4.0</td>\n",
       "      <td>wish</td>\n",
       "      <td>3.563264061358002</td>\n",
       "    </tr>\n",
       "    <tr>\n",
       "      <th>4</th>\n",
       "      <td>wish_5.0</td>\n",
       "      <td>wish</td>\n",
       "      <td>0.29824758358901193</td>\n",
       "    </tr>\n",
       "  </tbody>\n",
       "</table>\n",
       "</div>"
      ],
      "text/plain": [
       "          0     1                    2\n",
       "0  wish_1.0  wish  0.19286004024379008\n",
       "1  wish_2.0  wish    4.591863674646195\n",
       "2  wish_3.0  wish   1.4613286364010425\n",
       "3  wish_4.0  wish    3.563264061358002\n",
       "4  wish_5.0  wish  0.29824758358901193"
      ]
     },
     "execution_count": 84,
     "metadata": {},
     "output_type": "execute_result"
    }
   ],
   "source": [
    "cols_and_ors = np.column_stack([dbd_features.columns.tolist(),var_names,odds_ratios[0]])\n",
    "cols_and_ors2 = pd.DataFrame(cols_and_ors)\n",
    "\n",
    "cols_and_ors2.groupby(1"
   ]
  },
  {
   "cell_type": "code",
   "execution_count": null,
   "id": "2c5b1787-a169-4c56-b91d-1b07e1b465ec",
   "metadata": {},
   "outputs": [],
   "source": []
  }
 ],
 "metadata": {
  "kernelspec": {
   "display_name": "Python 3 (ipykernel)",
   "language": "python",
   "name": "python3"
  },
  "language_info": {
   "codemirror_mode": {
    "name": "ipython",
    "version": 3
   },
   "file_extension": ".py",
   "mimetype": "text/x-python",
   "name": "python",
   "nbconvert_exporter": "python",
   "pygments_lexer": "ipython3",
   "version": "3.9.7"
  }
 },
 "nbformat": 4,
 "nbformat_minor": 5
}
