{
 "cells": [
  {
   "cell_type": "markdown",
   "id": "30bf92ed-8f7f-4af7-982d-78394a361aab",
   "metadata": {},
   "source": [
    "# Recreating a logistic regression model\n",
    "Author: Roddy Jaques <br>\n",
    "*NHS Blood and Transplant*\n",
    "***\n",
    "\n",
    "## Recreating the logisitic regression using Sci-kit learn\n",
    "\n",
    "### Aims and summary of the project\n",
    "The aim of this project is explore how Scikit-learn and machine learning models perform compared to statistical models created in SAS for predicting family consent for organ doantion using Potential Donor Audit data.<br><br>\n",
    "The approach and problem will be familiar to any Statistican or Data Scientist, that is using classification models to predicit a binary target variable.  I'll use a logistic regression model from a previous analysis as a baseline to compare other models to. The previous analysis conducted by __[Curtis et al.](https://doi.org/10.1111/anae.15485)__ fit logistic regression models using a dataset of all family approaches for organ doantion between April 2014 and March 2019 from the national Potential Donor Audit (PDA) data held by NHS Blood and Transplant. I will use the same dataset to first recreate the logistic regression with Scikit-learn and then fit other Scikit-learn models with the same dataset and compare their ability to predict whether or not a family consented to organ donation.<br>\n",
    "\n",
    "In the previous analysis a model was fit using data from potential Donation after Brainstem Death (DBD) donors, and one for potential Donation after Circulatory Death (DCD) donors. I will start by fitting logistic regression models to DBD and DCD cohorts using the same variables as used in the previous analysis. When I fit subsequent models I will used the same cohort and variables, as the variables and cohort were chosen with lots of clincian input so improvements are unlikey to come from using new variables or a different cohort.\n",
    "\n",
    "### Fitting the logistic regression\n",
    "\n",
    "First, import the data and remove missing and unknown data to recreate the cohort in the original analysis..."
   ]
  },
  {
   "cell_type": "code",
   "execution_count": 3,
   "id": "54899de5-1b9a-4544-b10b-248079c82329",
   "metadata": {},
   "outputs": [],
   "source": [
    "import numpy as np\n",
    "import pandas as pd\n",
    "import matplotlib.pyplot as plt\n",
    "from sklearn.model_selection import train_test_split\n",
    "from sklearn.linear_model import LogisticRegression\n",
    "%matplotlib inline"
   ]
  },
  {
   "cell_type": "code",
   "execution_count": 5,
   "id": "ef507fdc-6649-4ec2-960d-c7d3a43bdf0d",
   "metadata": {},
   "outputs": [],
   "source": [
    "# import dataset \n",
    "df = pd.read_sas(\"Data/alldata3.sas7bdat\")\n",
    "\n",
    "# 6931 DBD family approaches\n",
    "dbd_apps = df[(df[\"eli_DBD\"]==1)&(df[\"FAMILY_APPROACHED\"]==2)]\n",
    "\n",
    "# remove missing and unknown data to get 6060 DBD approaches matching the cohort in the paper\n",
    "dbd_apps = dbd_apps[(dbd_apps[\"eth_grp\"]!=5)&(dbd_apps[\"FORMAL_APR_WHEN\"]!=4)&(dbd_apps[\"donation_mentioned\"]!=-1)\n",
    "                    &(dbd_apps[\"FAMILY_WITNESS_BSDT\"]!=9)&(dbd_apps[\"GENDER\"]!=9)]\n",
    "\n",
    "# Columns used to create DBD model in paper\n",
    "dbd_cols = [\"wish\", \"FORMAL_APR_WHEN\", \"donation_mentioned\", \"app_nature\", \"eth_grp\", \"religion_grp\", \"GENDER\", \"FAMILY_WITNESS_BSDT\", \"DTC_PRESENT_BSD_CONV\", \n",
    "            \"acorn_new\", \"adult\",\"FAMILY_CONSENT\"]\n",
    "\n",
    "dbd_apps[dbd_cols].astype(int)\n",
    "\n",
    "dbd_model_data = dbd_apps[dbd_cols]\n",
    "\n",
    "# export to csv to use in other models\n",
    "dbd_model_data.to_csv(\"Data/dbd_model_data.csv\",index=False)\n",
    "     \n",
    "# 9965 DCD approachess\n",
    "dcd_apps = df[(df[\"eli_DCD\"]==1)&(df[\"FAMILY_APPROACHED\"]==2)]\n",
    "\n",
    "# remove missing and unknown data to get 9405 DCD apps matching the cohort in the paper\n",
    "dcd_apps = dcd_apps[(dcd_apps[\"GENDER\"]!=9)&(dcd_apps[\"cod_neuro\"].notna())&(dcd_apps[\"eth_grp\"]!=5)&(dcd_apps[\"donation_mentioned\"]!=-1)&\n",
    "                    (~dcd_apps[\"DTC_WD_TRTMENT_PRESENT\"].isin([8,9]))]\n",
    "\n",
    "# Columns used to create DCD model in paper\n",
    "dcd_cols = [\"wish\", \"donation_mentioned\", \n",
    "            \"app_nature\", \"eth_grp\", \"religion_grp\", \"GENDER\", \"DTC_WD_TRTMENT_PRESENT\", \n",
    "            \"acorn_new\", \"adult\",\"cod_neuro\",\"FAMILY_CONSENT\"]\n",
    "\n",
    "dcd_apps[dbd_cols].astype(int)\n",
    "\n",
    "dcd_model_data = dcd_apps[dcd_cols]\n",
    "\n",
    "# export to csv to use in other models\n",
    "dcd_model_data.to_csv(\"Data/dcd_model_data.csv\",index=False)"
   ]
  },
  {
   "cell_type": "markdown",
   "id": "aa8ebb19-aa39-4a47-831b-0f6c080460a8",
   "metadata": {},
   "source": [
    "All variables are categorical so I can use one-hot encoding. This lets me calculate an odds ratio for each factor of each variable and compare to the model previously fit and verify I've recreated the model.<br>\n",
    "I'm using a logistic regression model using the 'newton-cg' solver with no penalisation, these hyperparameters are similar to the methods used in SAS to fit the original model."
   ]
  },
  {
   "cell_type": "code",
   "execution_count": 17,
   "id": "3ca3f613-0a83-4711-ba46-6f1b828564b9",
   "metadata": {},
   "outputs": [],
   "source": [
    "# use one-hot encoding to so it's possible to calculate odds ratios for each value of each variable\n",
    "dbd_model_data2 = pd.get_dummies(data=dbd_model_data,columns=dbd_cols[:-1],drop_first=True)\n",
    "\n",
    "dbd_features = dbd_model_data2.drop(\"FAMILY_CONSENT\",axis=1)\n",
    "dbd_consents = dbd_model_data2[\"FAMILY_CONSENT\"]\n",
    "\n",
    "dbd_feature_names = dbd_features.columns.tolist()"
   ]
  },
  {
   "cell_type": "code",
   "execution_count": 18,
   "id": "8e60d71c-ca12-4e26-b3ff-951e71941574",
   "metadata": {},
   "outputs": [
    {
     "name": "stdout",
     "output_type": "stream",
     "text": [
      "wish_2.0 | 23.81\n",
      "wish_3.0 | 7.58\n",
      "wish_4.0 | 18.48\n",
      "wish_5.0 | 1.55\n",
      "FORMAL_APR_WHEN_2.0 | 0.43\n",
      "FORMAL_APR_WHEN_3.0 | 0.4\n",
      "donation_mentioned_2.0 | 1.26\n",
      "donation_mentioned_3.0 | 1.78\n",
      "donation_mentioned_4.0 | 2.01\n",
      "app_nature_2.0 | 0.88\n",
      "app_nature_3.0 | 0.27\n",
      "eth_grp_2.0 | 0.5\n",
      "eth_grp_3.0 | 0.29\n",
      "eth_grp_4.0 | 0.84\n",
      "religion_grp_2.0 | 0.17\n",
      "religion_grp_3.0 | 1.31\n",
      "religion_grp_4.0 | 1.02\n",
      "religion_grp_5.0 | 0.69\n",
      "religion_grp_9.0 | 0.78\n",
      "GENDER_2.0 | 0.79\n",
      "FAMILY_WITNESS_BSDT_2.0 | 0.78\n",
      "DTC_PRESENT_BSD_CONV_2.0 | 1.39\n",
      "acorn_new_2.0 | 0.93\n",
      "acorn_new_3.0 | 0.93\n",
      "acorn_new_4.0 | 0.71\n",
      "acorn_new_5.0 | 0.75\n",
      "acorn_new_6.0 | 0.74\n",
      "adult_1.0 | 0.66\n"
     ]
    }
   ],
   "source": [
    "LR_model = LogisticRegression(penalty='none',solver='newton-cg')\n",
    "\n",
    "DBD_LR = LR_model.fit(dbd_features,dbd_consents)\n",
    "\n",
    "odds_ratios_dbd = np.exp(DBD_LR.coef_) \n",
    "\n",
    "for i in range(odds_ratios_dbd.shape[1]):\n",
    "    print(dbd_feature_names[i],\"|\",round(odds_ratios_dbd[0][i],2))"
   ]
  },
  {
   "cell_type": "code",
   "execution_count": 19,
   "id": "b928e9b9-f694-466a-ab80-29d48c11199c",
   "metadata": {},
   "outputs": [],
   "source": [
    "# use one-hot encoding to so it's possible to calculate odds ratios for each value of each variable\n",
    "dcd_model_data2 = pd.get_dummies(data=dcd_model_data,columns=dcd_cols[:-1],drop_first=True)\n",
    "\n",
    "dcd_features = dcd_model_data2.drop(\"FAMILY_CONSENT\",axis=1)\n",
    "dcd_consents = dcd_model_data2[\"FAMILY_CONSENT\"]\n",
    "\n",
    "dcd_feature_names = dcd_features.columns.tolist()"
   ]
  },
  {
   "cell_type": "code",
   "execution_count": 20,
   "id": "e8470cd2-7655-427e-bcf0-6f1f9cc69880",
   "metadata": {},
   "outputs": [
    {
     "name": "stdout",
     "output_type": "stream",
     "text": [
      "wish_2.0 | 10.15\n",
      "wish_3.0 | 5.62\n",
      "wish_4.0 | 17.98\n",
      "wish_5.0 | 1.47\n",
      "donation_mentioned_2.0 | 1.56\n",
      "donation_mentioned_3.0 | 2.46\n",
      "donation_mentioned_4.0 | 2.53\n",
      "app_nature_2.0 | 1.0\n",
      "app_nature_3.0 | 0.26\n",
      "eth_grp_2.0 | 0.79\n",
      "eth_grp_3.0 | 0.47\n",
      "eth_grp_4.0 | 1.08\n",
      "religion_grp_2.0 | 0.13\n",
      "religion_grp_3.0 | 0.65\n",
      "religion_grp_4.0 | 1.3\n",
      "religion_grp_5.0 | 0.68\n",
      "religion_grp_9.0 | 0.67\n",
      "GENDER_2.0 | 0.86\n",
      "DTC_WD_TRTMENT_PRESENT_2.0 | 1.43\n",
      "acorn_new_2.0 | 0.98\n",
      "acorn_new_3.0 | 0.92\n",
      "acorn_new_4.0 | 0.95\n",
      "acorn_new_5.0 | 0.82\n",
      "acorn_new_6.0 | 0.85\n",
      "adult_1.0 | 1.26\n",
      "cod_neuro_1.0 | 1.08\n"
     ]
    }
   ],
   "source": [
    "DCD_LR = LR_model.fit(dcd_features,dcd_consents)\n",
    "\n",
    "odds_ratios_dcd = np.exp(DCD_LR.coef_) \n",
    "\n",
    "for i in range(odds_ratios_dcd.shape[1]):\n",
    "    print(dcd_feature_names[i],\"|\",round(odds_ratios_dcd[0][i],2))"
   ]
  },
  {
   "cell_type": "markdown",
   "id": "3005d335-69b5-49f5-a71b-858a7ff82809",
   "metadata": {},
   "source": [
    "***\n",
    "\n",
    "For both models the odds ratios are equal to the odds ratios caculated from the SAS model, so the performance metrics from a model fit using this method will be fair to use a baseline standard to compare other models to.<br>\n",
    "\n",
    "In the next Notebook I will use a training and test set to fit and assess a logistic regression model.\n",
    "\n",
    "***"
   ]
  }
 ],
 "metadata": {
  "kernelspec": {
   "display_name": "Python 3 (ipykernel)",
   "language": "python",
   "name": "python3"
  },
  "language_info": {
   "codemirror_mode": {
    "name": "ipython",
    "version": 3
   },
   "file_extension": ".py",
   "mimetype": "text/x-python",
   "name": "python",
   "nbconvert_exporter": "python",
   "pygments_lexer": "ipython3",
   "version": "3.9.7"
  }
 },
 "nbformat": 4,
 "nbformat_minor": 5
}
